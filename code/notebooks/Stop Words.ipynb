{
 "cells": [
  {
   "cell_type": "markdown",
   "metadata": {},
   "source": [
    "Stop words are merely words you want your NLP pipeline to ignore. Stop lists usually contain common words like 'the', but they may also contain domain-specific words like 'Cerner' or 'DevCon'."
   ]
  },
  {
   "cell_type": "code",
   "execution_count": 24,
   "metadata": {},
   "outputs": [
    {
     "name": "stdout",
     "output_type": "stream",
     "text": [
      "Number of stopwords in spaCy: 305\n",
      "Examples:\n",
      "or had down take thereupon when has fifty the still\n"
     ]
    }
   ],
   "source": [
    "from spacy.lang.en import English\n",
    "\n",
    "stopwords = list(English.Defaults.stop_words)\n",
    "\n",
    "print(f\"Number of stopwords in spaCy: {len(stopwords)}\")\n",
    "print(f\"Examples:\\n{' '.join(stopwords[0:10])}\")"
   ]
  },
  {
   "cell_type": "code",
   "execution_count": 43,
   "metadata": {},
   "outputs": [
    {
     "name": "stdout",
     "output_type": "stream",
     "text": [
      "[I, 'm, picketing, ,, I, n't, know, .]\n"
     ]
    }
   ],
   "source": [
    "text = \"I'm against picketing, but I don't know how to show it.\"\n",
    "\n",
    "english = spacy.load('en')\n",
    "doc = english(text)\n",
    "\n",
    "# spaCy automatically tags when words are stop words with `is_stop`\n",
    "tokens = [token for token in doc if not token.is_stop]\n",
    "\n",
    "print(tokens)"
   ]
  }
 ],
 "metadata": {
  "kernelspec": {
   "display_name": "Python 3",
   "language": "python",
   "name": "python3"
  },
  "language_info": {
   "codemirror_mode": {
    "name": "ipython",
    "version": 3
   },
   "file_extension": ".py",
   "mimetype": "text/x-python",
   "name": "python",
   "nbconvert_exporter": "python",
   "pygments_lexer": "ipython3",
   "version": "3.6.3"
  }
 },
 "nbformat": 4,
 "nbformat_minor": 2
}
