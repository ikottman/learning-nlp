{
 "cells": [
  {
   "cell_type": "code",
   "execution_count": 26,
   "metadata": {},
   "outputs": [],
   "source": [
    "import spacy\n",
    "from spacy.lang.en import English\n",
    "\n",
    "# load the english model\n",
    "nlp = spacy.load('en')"
   ]
  },
  {
   "cell_type": "code",
   "execution_count": 36,
   "metadata": {},
   "outputs": [
    {
     "name": "stdout",
     "output_type": "stream",
     "text": [
      "I\n",
      "bought\n",
      "a\n",
      "$\n",
      "7\n",
      "pen\n",
      "because\n",
      "I\n",
      "always\n",
      "lose\n",
      "pens\n",
      "and\n",
      "I\n",
      "got\n",
      "sick\n",
      "of\n",
      "not\n",
      "caring\n",
      ".\n"
     ]
    }
   ],
   "source": [
    "text = \"I bought a $7 pen because I always lose pens and I got sick of not caring.\"\n",
    "# tokenize with the default english tokenizer\n",
    "tokenizer = English().Defaults.create_tokenizer(nlp)\n",
    "tokens = tokenizer(text)\n",
    "for token in tokens:\n",
    "    print(token.text)"
   ]
  },
  {
   "cell_type": "code",
   "execution_count": null,
   "metadata": {},
   "outputs": [],
   "source": []
  }
 ],
 "metadata": {
  "kernelspec": {
   "display_name": "Python 3",
   "language": "python",
   "name": "python3"
  },
  "language_info": {
   "codemirror_mode": {
    "name": "ipython",
    "version": 3
   },
   "file_extension": ".py",
   "mimetype": "text/x-python",
   "name": "python",
   "nbconvert_exporter": "python",
   "pygments_lexer": "ipython3",
   "version": "3.6.4"
  }
 },
 "nbformat": 4,
 "nbformat_minor": 2
}
