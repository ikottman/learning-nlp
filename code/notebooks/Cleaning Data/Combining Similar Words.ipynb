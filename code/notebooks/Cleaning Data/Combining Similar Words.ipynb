{
 "cells": [
  {
   "cell_type": "markdown",
   "metadata": {},
   "source": [
    "Two common ways of combining similar words are _stemming_ and _lemmatization_.\n",
    "\n",
    "## Stemming\n",
    "\n",
    "The simpler of the two, and works by chopping off the end of each word. A popular algorithm for this, called Porter's algorithm, would convert `ponies` -> `poni` and `cats` -> `cat`. Stemming is fast but can have a high false positive rate."
   ]
  },
  {
   "cell_type": "code",
   "execution_count": 29,
   "metadata": {},
   "outputs": [
    {
     "name": "stdout",
     "output_type": "stream",
     "text": [
      "thi\n",
      "shirt\n",
      "is\n",
      "dry-clean\n",
      "onli\n",
      "which\n",
      "mean\n",
      "it'\n",
      "dirti\n"
     ]
    }
   ],
   "source": [
    "from nltk.stem.porter import PorterStemmer\n",
    "stemmer = PorterStemmer()\n",
    "\n",
    "text = \"This shirt is dry-clean only which means it's dirty\"\n",
    "tokens = text.split(\" \")\n",
    "singles = [stemmer.stem(token) for token in tokens]\n",
    "for token in tokens:\n",
    "    stem = stemmer.stem(token)\n",
    "    print(stem)"
   ]
  },
  {
   "cell_type": "markdown",
   "metadata": {},
   "source": [
    "Stemming doesn't take into account parts of speech, and can produce invalid words. This is why spaCy doesn't include a stemmer, instead it provides lemmatization."
   ]
  },
  {
   "cell_type": "markdown",
   "metadata": {},
   "source": [
    "## Lemmatization\n",
    "Grouping words into their _lemma_, or standard form of the word. For example, `better` and `best` have the lemma `good` whereas `walk` is the lemma for `walking`, `walked`, and `walks`. Lemmatization is more complicated than stemming, but has fewer false positives."
   ]
  },
  {
   "cell_type": "code",
   "execution_count": 16,
   "metadata": {},
   "outputs": [
    {
     "name": "stdout",
     "output_type": "stream",
     "text": [
      "I -> -PRON-\n",
      "n't -> not\n",
      "slept -> sleep\n",
      "days -> day\n"
     ]
    }
   ],
   "source": [
    "import spacy\n",
    "from spacy.lang.en import English\n",
    "\n",
    "text = \"I haven't slept for ten days, because that would be too long.\"\n",
    "\n",
    "nlp = spacy.load('en')\n",
    "doc = nlp(text)\n",
    "for token in doc:\n",
    "    if not token.is_punct and token.text != token.lemma_:\n",
    "        print(token.text, \"->\", token.lemma_)"
   ]
  },
  {
   "cell_type": "markdown",
   "metadata": {},
   "source": [
    "You can see plurals and different tenses are collapsed into a single base form. spaCy also introduces a special case for pronouns because there is no clear lemma for pronouns. Should \"I\" become \"me\", \"it\", or \"they\"? To avoid this ambiguity they treat all pronouns as a special lemma, -PRON-."
   ]
  }
 ],
 "metadata": {
  "kernelspec": {
   "display_name": "Python 3",
   "language": "python",
   "name": "python3"
  },
  "language_info": {
   "codemirror_mode": {
    "name": "ipython",
    "version": 3
   },
   "file_extension": ".py",
   "mimetype": "text/x-python",
   "name": "python",
   "nbconvert_exporter": "python",
   "pygments_lexer": "ipython3",
   "version": "3.6.4"
  }
 },
 "nbformat": 4,
 "nbformat_minor": 2
}
