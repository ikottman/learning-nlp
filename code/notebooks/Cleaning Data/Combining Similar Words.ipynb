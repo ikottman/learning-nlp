{
 "cells": [
  {
   "cell_type": "markdown",
   "metadata": {},
   "source": [
    "Two common ways of combining similar words are _stemming_ and _lemmatization_.\n",
    "\n",
    "# Stemming\n",
    "\n",
    "The simpler of the two, and works by chopping off the end of each word. A popular algorithm for this, called Porter's algorithm, would convert `ponies` -> `poni` and `cats` -> `cat`. Stemming is fast and gives a high number of relevant results, but can have a high false positive rate.\n",
    "\n",
    "# TODO: give example with nltk? check what I did with wordcloud\n",
    "\n",
    "spaCy does not include a stemmer because stemming doesn't take into account parts of speech.\n"
   ]
  },
  {
   "cell_type": "markdown",
   "metadata": {},
   "source": [
    "# Lemmatization\n",
    "Grouping words into their _lemma_, or standard form of the word. For example, `better` and `best` have the lemma `good` whereas `walk` is the lemma for `walking`, `walked`, and `walks`. Lemmatization is more complicated than stemming, but has fewer false positives. "
   ]
  },
  {
   "cell_type": "code",
   "execution_count": null,
   "metadata": {},
   "outputs": [],
   "source": []
  }
 ],
 "metadata": {
  "kernelspec": {
   "display_name": "Python 3",
   "language": "python",
   "name": "python3"
  },
  "language_info": {
   "codemirror_mode": {
    "name": "ipython",
    "version": 3
   },
   "file_extension": ".py",
   "mimetype": "text/x-python",
   "name": "python",
   "nbconvert_exporter": "python",
   "pygments_lexer": "ipython3",
   "version": "3.6.4"
  }
 },
 "nbformat": 4,
 "nbformat_minor": 2
}
